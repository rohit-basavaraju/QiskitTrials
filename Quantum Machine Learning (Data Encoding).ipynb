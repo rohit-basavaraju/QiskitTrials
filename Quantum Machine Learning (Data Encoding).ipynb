{
 "cells": [
  {
   "cell_type": "markdown",
   "id": "dd5fee02",
   "metadata": {},
   "source": [
    "This notebook contains notes from the Paramterized Quantum Circuits sub-chapter of the IBM Qiskit Quantum ML textbook chapter. https://learn.qiskit.org/course/machine-learning/data-encoding\n",
    "\n",
    "Notes:\n",
    "- "
   ]
  },
  {
   "cell_type": "code",
   "execution_count": 1,
   "id": "8a012f69",
   "metadata": {},
   "outputs": [
    {
     "data": {
      "text/html": [
       "<pre style=\"word-wrap: normal;white-space: pre;background: #fff0;line-height: 1.1;font-family: &quot;Courier New&quot;,Courier,monospace\">          ┌───────────────────────┐                      ┌───┐»\n",
       "q_0: ─|0>─┤ multiplex1_reverse_dg ├──────────────────────┤ X ├»\n",
       "          └──────┬─────────┬──────┘┌───┐┌──────────┐┌───┐└─┬─┘»\n",
       "q_1: ─|0>────────┤ Ry(π/4) ├───────┤ X ├┤ Ry(-π/4) ├┤ X ├──■──»\n",
       "                 ├─────────┴┐      └─┬─┘└──────────┘└─┬─┘     »\n",
       "q_2: ─|0>────────┤ R(π,π/2) ├────────■────────────────■───────»\n",
       "                 └──────────┘                                 »\n",
       "«     ┌───────────────────────────────┐┌───┐»\n",
       "«q_0: ┤ multiplex1_reverse_reverse_dg ├┤ X ├»\n",
       "«     └───────────────────────────────┘└─┬─┘»\n",
       "«q_1: ───────────────────────────────────┼──»\n",
       "«                                        │  »\n",
       "«q_2: ───────────────────────────────────■──»\n",
       "«                                           »\n",
       "«     ┌───────────────────────────────────────┐┌───┐»\n",
       "«q_0: ┤ multiplex1_reverse_reverse_reverse_dg ├┤ X ├»\n",
       "«     └───────────────────────────────────────┘└─┬─┘»\n",
       "«q_1: ───────────────────────────────────────────■──»\n",
       "«                                                   »\n",
       "«q_2: ──────────────────────────────────────────────»\n",
       "«                                                   »\n",
       "«     ┌───────────────────────────────┐┌───┐\n",
       "«q_0: ┤ multiplex1_reverse_reverse_dg ├┤ X ├\n",
       "«     └───────────────────────────────┘└─┬─┘\n",
       "«q_1: ───────────────────────────────────┼──\n",
       "«                                        │  \n",
       "«q_2: ───────────────────────────────────■──\n",
       "«                                           </pre>"
      ],
      "text/plain": [
       "          ┌───────────────────────┐                      ┌───┐»\n",
       "q_0: ─|0>─┤ multiplex1_reverse_dg ├──────────────────────┤ X ├»\n",
       "          └──────┬─────────┬──────┘┌───┐┌──────────┐┌───┐└─┬─┘»\n",
       "q_1: ─|0>────────┤ Ry(π/4) ├───────┤ X ├┤ Ry(-π/4) ├┤ X ├──■──»\n",
       "                 ├─────────┴┐      └─┬─┘└──────────┘└─┬─┘     »\n",
       "q_2: ─|0>────────┤ R(π,π/2) ├────────■────────────────■───────»\n",
       "                 └──────────┘                                 »\n",
       "«     ┌───────────────────────────────┐┌───┐»\n",
       "«q_0: ┤ multiplex1_reverse_reverse_dg ├┤ X ├»\n",
       "«     └───────────────────────────────┘└─┬─┘»\n",
       "«q_1: ───────────────────────────────────┼──»\n",
       "«                                        │  »\n",
       "«q_2: ───────────────────────────────────■──»\n",
       "«                                           »\n",
       "«     ┌───────────────────────────────────────┐┌───┐»\n",
       "«q_0: ┤ multiplex1_reverse_reverse_reverse_dg ├┤ X ├»\n",
       "«     └───────────────────────────────────────┘└─┬─┘»\n",
       "«q_1: ───────────────────────────────────────────■──»\n",
       "«                                                   »\n",
       "«q_2: ──────────────────────────────────────────────»\n",
       "«                                                   »\n",
       "«     ┌───────────────────────────────┐┌───┐\n",
       "«q_0: ┤ multiplex1_reverse_reverse_dg ├┤ X ├\n",
       "«     └───────────────────────────────┘└─┬─┘\n",
       "«q_1: ───────────────────────────────────┼──\n",
       "«                                        │  \n",
       "«q_2: ───────────────────────────────────■──\n",
       "«                                           "
      ]
     },
     "execution_count": 1,
     "metadata": {},
     "output_type": "execute_result"
    }
   ],
   "source": [
    "import math\n",
    "from qiskit import QuantumCircuit\n",
    "\n",
    "desired_state = [\n",
    "    0,\n",
    "    0,\n",
    "    0,\n",
    "    0,\n",
    "    0,\n",
    "    1 / math.sqrt(2),\n",
    "    0,\n",
    "    1 / math.sqrt(2)]\n",
    "\n",
    "qc = QuantumCircuit(3)\n",
    "qc.initialize(desired_state, [0,1,2])\n",
    "qc.decompose().decompose().decompose().decompose().decompose().draw()"
   ]
  },
  {
   "cell_type": "code",
   "execution_count": null,
   "id": "0baaccea",
   "metadata": {},
   "outputs": [],
   "source": []
  }
 ],
 "metadata": {
  "kernelspec": {
   "display_name": "Python 3 (ipykernel)",
   "language": "python",
   "name": "python3"
  },
  "language_info": {
   "codemirror_mode": {
    "name": "ipython",
    "version": 3
   },
   "file_extension": ".py",
   "mimetype": "text/x-python",
   "name": "python",
   "nbconvert_exporter": "python",
   "pygments_lexer": "ipython3",
   "version": "3.10.9"
  }
 },
 "nbformat": 4,
 "nbformat_minor": 5
}

{
 "cells": [
  {
   "attachments": {},
   "cell_type": "markdown",
   "id": "38297b8b",
   "metadata": {},
   "source": [
    "The purpose of this notebook is to provide a space for recording exercises and practice while working through The Atoms of Computation chapter from IBM's Introduction to Quantum Computing online qiskit textbook.\n",
    "\n",
    "https://learn.qiskit.org/course/introduction/the-atoms-of-computation\n",
    "\n",
    "Notes:\n",
    "- qubits are always initialized as |0>\n",
    "- gates are applied indexing from right of qubit tensor product\n",
    "- the atoms of computation are bits; the atoms of quantum computation are qubits\n",
    "- XOR or CNOT gate checks if two bits are distinct (e.g. CNOT(01) = 1)\n",
    "- can remember CNOT as \"Check Not\" for checking if the bits are not the same; XOR for Exclusive Or\n",
    "- Tofolli gate is an AND gate (AND(11) = 1), considered essential atom of math"
   ]
  },
  {
   "cell_type": "markdown",
   "id": "93a27513",
   "metadata": {},
   "source": [
    "# First Quantum Circuit"
   ]
  },
  {
   "cell_type": "code",
   "execution_count": 38,
   "id": "4fc2d6ea",
   "metadata": {},
   "outputs": [],
   "source": [
    "import qiskit as qi\n",
    "from qiskit.providers.aer import AerSimulator"
   ]
  },
  {
   "cell_type": "code",
   "execution_count": 39,
   "id": "af07561a",
   "metadata": {},
   "outputs": [
    {
     "data": {
      "text/plain": [
       "{'110': 1024}"
      ]
     },
     "execution_count": 39,
     "metadata": {},
     "output_type": "execute_result"
    }
   ],
   "source": [
    "# setup the circuit\n",
    "qc = qi.QuantumCircuit(3, 3)\n",
    "\n",
    "# apply gates (000 -> 100 for 4; 000 -> 110 for 6)\n",
    "#qc.x([2]) # perform X-gate on qubit 2 (note that qubits are counted from right in tensor product)\n",
    "qc.x([1, 2])\n",
    "\n",
    "# measure the circuit\n",
    "qc.measure([0,1,2], [0,1,2])\n",
    "\n",
    "# draw the circuit\n",
    "qc.draw()\n",
    "\n",
    "# perform sim (job) and check results\n",
    "sim = AerSimulator()\n",
    "job = sim.run(qc)\n",
    "result = job.result()\n",
    "result.get_counts()"
   ]
  },
  {
   "cell_type": "code",
   "execution_count": 40,
   "id": "2b9c69b0",
   "metadata": {},
   "outputs": [
    {
     "data": {
      "text/html": [
       "<pre style=\"word-wrap: normal;white-space: pre;background: #fff0;line-height: 1.1;font-family: &quot;Courier New&quot;,Courier,monospace\">          ┌─┐      \n",
       "q_0: ─────┤M├──────\n",
       "     ┌───┐└╥┘┌─┐   \n",
       "q_1: ┤ X ├─╫─┤M├───\n",
       "     ├───┤ ║ └╥┘┌─┐\n",
       "q_2: ┤ X ├─╫──╫─┤M├\n",
       "     └───┘ ║  ║ └╥┘\n",
       "c: 3/══════╩══╩══╩═\n",
       "           0  1  2 </pre>"
      ],
      "text/plain": [
       "          ┌─┐      \n",
       "q_0: ─────┤M├──────\n",
       "     ┌───┐└╥┘┌─┐   \n",
       "q_1: ┤ X ├─╫─┤M├───\n",
       "     ├───┤ ║ └╥┘┌─┐\n",
       "q_2: ┤ X ├─╫──╫─┤M├\n",
       "     └───┘ ║  ║ └╥┘\n",
       "c: 3/══════╩══╩══╩═\n",
       "           0  1  2 "
      ]
     },
     "execution_count": 40,
     "metadata": {},
     "output_type": "execute_result"
    }
   ],
   "source": [
    "qc.draw()"
   ]
  },
  {
   "cell_type": "markdown",
   "id": "35200154",
   "metadata": {},
   "source": [
    "# Quantum (Half) Adder"
   ]
  },
  {
   "cell_type": "code",
   "execution_count": 42,
   "id": "a2aa3259",
   "metadata": {},
   "outputs": [
    {
     "data": {
      "text/html": [
       "<pre style=\"word-wrap: normal;white-space: pre;background: #fff0;line-height: 1.1;font-family: &quot;Courier New&quot;,Courier,monospace\">     ┌───┐     ┌─┐   \n",
       "q_0: ┤ X ├──■──┤M├───\n",
       "     └───┘┌─┴─┐└╥┘┌─┐\n",
       "q_1: ─────┤ X ├─╫─┤M├\n",
       "          └───┘ ║ └╥┘\n",
       "c: 2/═══════════╩══╩═\n",
       "                0  1 </pre>"
      ],
      "text/plain": [
       "     ┌───┐     ┌─┐   \n",
       "q_0: ┤ X ├──■──┤M├───\n",
       "     └───┘┌─┴─┐└╥┘┌─┐\n",
       "q_1: ─────┤ X ├─╫─┤M├\n",
       "          └───┘ ║ └╥┘\n",
       "c: 2/═══════════╩══╩═\n",
       "                0  1 "
      ]
     },
     "metadata": {},
     "output_type": "display_data"
    },
    {
     "name": "stdout",
     "output_type": "stream",
     "text": [
      "Result:  {'11': 1024}\n"
     ]
    }
   ],
   "source": [
    "# Create quantum circuit with 2 qubits and 2 classical bits\n",
    "qc = qi.QuantumCircuit(2, 2) # |00>\n",
    "qc.x(0) # |01>\n",
    "qc.cx(0,1)  # CNOT controlled by qubit 0 and targeting qubit 1 # |11>\n",
    "qc.measure([0,1], [0,1])\n",
    "display(qc.draw())     # display a drawing of the circuit\n",
    "\n",
    "job = sim.run(qc)      # run the experiment\n",
    "result = job.result()  # get the results\n",
    "# interpret the results as a \"counts\" dictionary\n",
    "print(\"Result: \", result.get_counts())"
   ]
  },
  {
   "cell_type": "code",
   "execution_count": 47,
   "id": "6991a730",
   "metadata": {},
   "outputs": [
    {
     "data": {
      "text/html": [
       "<pre style=\"word-wrap: normal;white-space: pre;background: #fff0;line-height: 1.1;font-family: &quot;Courier New&quot;,Courier,monospace\">     ┌───┐                     \n",
       "q_0: ┤ X ├──■─────────■────────\n",
       "     ├───┤  │         │        \n",
       "q_1: ┤ X ├──┼────■────■────────\n",
       "     └───┘┌─┴─┐┌─┴─┐  │  ┌─┐   \n",
       "q_2: ─────┤ X ├┤ X ├──┼──┤M├───\n",
       "          └───┘└───┘┌─┴─┐└╥┘┌─┐\n",
       "q_3: ───────────────┤ X ├─╫─┤M├\n",
       "                    └───┘ ║ └╥┘\n",
       "c: 2/═════════════════════╩══╩═\n",
       "                          0  1 </pre>"
      ],
      "text/plain": [
       "     ┌───┐                     \n",
       "q_0: ┤ X ├──■─────────■────────\n",
       "     ├───┤  │         │        \n",
       "q_1: ┤ X ├──┼────■────■────────\n",
       "     └───┘┌─┴─┐┌─┴─┐  │  ┌─┐   \n",
       "q_2: ─────┤ X ├┤ X ├──┼──┤M├───\n",
       "          └───┘└───┘┌─┴─┐└╥┘┌─┐\n",
       "q_3: ───────────────┤ X ├─╫─┤M├\n",
       "                    └───┘ ║ └╥┘\n",
       "c: 2/═════════════════════╩══╩═\n",
       "                          0  1 "
      ]
     },
     "metadata": {},
     "output_type": "display_data"
    },
    {
     "name": "stdout",
     "output_type": "stream",
     "text": [
      "Result:  {'10': 1024}\n"
     ]
    }
   ],
   "source": [
    "# Create quantum circuit with 2 qubits and 2 classical bits\n",
    "qc = qi.QuantumCircuit(4, 2) # |0000>\n",
    "qc.x(0) # |0001>\n",
    "qc.x(1) # |0011>\n",
    "qc.cx(0,2)  # CNOT(1,0) -> |0111>\n",
    "qc.cx(1,2)  # CNOT(1,1) -> |0011>\n",
    "qc.ccx(0,1,3) # AND(1,1,0*) -> |1011>\n",
    "\n",
    "qc.measure([2,3], [0,1])\n",
    "display(qc.draw())     # display a drawing of the circuit\n",
    "\n",
    "job = sim.run(qc)      # run the experiment\n",
    "result = job.result()  # get the results\n",
    "# interpret the results as a \"counts\" dictionary\n",
    "print(\"Result: \", result.get_counts())"
   ]
  },
  {
   "cell_type": "code",
   "execution_count": null,
   "id": "203c77c9",
   "metadata": {},
   "outputs": [],
   "source": []
  }
 ],
 "metadata": {
  "kernelspec": {
   "display_name": "Python 3 (ipykernel)",
   "language": "python",
   "name": "python3"
  },
  "language_info": {
   "codemirror_mode": {
    "name": "ipython",
    "version": 3
   },
   "file_extension": ".py",
   "mimetype": "text/x-python",
   "name": "python",
   "nbconvert_exporter": "python",
   "pygments_lexer": "ipython3",
   "version": "3.10.9"
  }
 },
 "nbformat": 4,
 "nbformat_minor": 5
}
